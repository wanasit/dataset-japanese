{
 "cells": [
  {
   "cell_type": "code",
   "execution_count": 6,
   "metadata": {},
   "outputs": [],
   "source": [
    "import os\n",
    "import glob\n",
    "\n",
    "import xml.etree.ElementTree as ET"
   ]
  },
  {
   "cell_type": "code",
   "execution_count": 7,
   "metadata": {},
   "outputs": [
    {
     "data": {
      "text/plain": [
       "['livedoor-news-data/sports-watch.xml',\n",
       " 'livedoor-news-data/smax.xml',\n",
       " 'livedoor-news-data/movie-enter.xml',\n",
       " 'livedoor-news-data/peachy.xml',\n",
       " 'livedoor-news-data/it-life-hack.xml',\n",
       " 'livedoor-news-data/kaden-channel.xml',\n",
       " 'livedoor-news-data/topic-news.xml',\n",
       " 'livedoor-news-data/livedoor-homme.xml',\n",
       " 'livedoor-news-data/dokujo-tsushin.xml']"
      ]
     },
     "execution_count": 7,
     "metadata": {},
     "output_type": "execute_result"
    }
   ],
   "source": [
    "if not os.path.isdir('livedoor-news-data'):\n",
    "    pass\n",
    "\n",
    "\n",
    "\n",
    "glob.glob('livedoor-news-data/*')"
   ]
  },
  {
   "cell_type": "code",
   "execution_count": null,
   "metadata": {},
   "outputs": [],
   "source": []
  }
 ],
 "metadata": {
  "kernelspec": {
   "display_name": "Python 3",
   "language": "python",
   "name": "python3"
  },
  "language_info": {
   "codemirror_mode": {
    "name": "ipython",
    "version": 3
   },
   "file_extension": ".py",
   "mimetype": "text/x-python",
   "name": "python",
   "nbconvert_exporter": "python",
   "pygments_lexer": "ipython3",
   "version": "3.7.5"
  }
 },
 "nbformat": 4,
 "nbformat_minor": 2
}
