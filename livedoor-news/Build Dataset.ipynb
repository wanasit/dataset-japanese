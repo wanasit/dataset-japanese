{
 "cells": [
  {
   "cell_type": "code",
   "execution_count": 65,
   "metadata": {},
   "outputs": [],
   "source": [
    "import os\n",
    "import glob\n",
    "import json\n",
    "import shutil\n",
    "import urllib\n",
    "\n",
    "from collections import defaultdict\n",
    "import xml.etree.ElementTree as ET"
   ]
  },
  {
   "cell_type": "markdown",
   "metadata": {},
   "source": [
    "# Download the original dataset"
   ]
  },
  {
   "cell_type": "code",
   "execution_count": 70,
   "metadata": {},
   "outputs": [
    {
     "data": {
      "text/plain": [
       "['livedoor-news-data/sports-watch.xml',\n",
       " 'livedoor-news-data/smax.xml',\n",
       " 'livedoor-news-data/movie-enter.xml',\n",
       " 'livedoor-news-data/peachy.xml',\n",
       " 'livedoor-news-data/it-life-hack.xml',\n",
       " 'livedoor-news-data/kaden-channel.xml',\n",
       " 'livedoor-news-data/topic-news.xml',\n",
       " 'livedoor-news-data/livedoor-homme.xml',\n",
       " 'livedoor-news-data/dokujo-tsushin.xml']"
      ]
     },
     "execution_count": 70,
     "metadata": {},
     "output_type": "execute_result"
    }
   ],
   "source": [
    "URL = 'https://www.rondhuit.com/download/livedoor-news-data.tar.gz'\n",
    "\n",
    "if not os.path.isdir('livedoor-news-data'):\n",
    "    \n",
    "    if not os.path.isfile('livedoor-news-data.tar.gz'):\n",
    "        urllib.request.urlretrieve(URL, 'livedoor-news-data.tar.gz')\n",
    "        \n",
    "    shutil.unpack_archive(\n",
    "        'livedoor-news-data.tar.gz', 'livedoor-news-data')\n",
    "\n",
    "\n",
    "glob.glob('livedoor-news-data/*')"
   ]
  },
  {
   "cell_type": "markdown",
   "metadata": {},
   "source": [
    "# Explore the xml format"
   ]
  },
  {
   "cell_type": "code",
   "execution_count": 17,
   "metadata": {},
   "outputs": [
    {
     "data": {
      "text/plain": [
       "<Element 'add' at 0x7fab18bd8470>"
      ]
     },
     "execution_count": 17,
     "metadata": {},
     "output_type": "execute_result"
    }
   ],
   "source": [
    "root = ET.parse('livedoor-news-data/sports-watch.xml').getroot()\n",
    "root"
   ]
  },
  {
   "cell_type": "code",
   "execution_count": 18,
   "metadata": {},
   "outputs": [
    {
     "data": {
      "text/plain": [
       "[<Element 'doc' at 0x7fab18bd8530>,\n",
       " <Element 'doc' at 0x7fab18bd8a10>,\n",
       " <Element 'doc' at 0x7fab18be00b0>]"
      ]
     },
     "execution_count": 18,
     "metadata": {},
     "output_type": "execute_result"
    }
   ],
   "source": [
    "root[:3]"
   ]
  },
  {
   "cell_type": "code",
   "execution_count": 21,
   "metadata": {},
   "outputs": [
    {
     "data": {
      "text/plain": [
       "[<Element 'field' at 0x7fab18bd85f0>,\n",
       " <Element 'field' at 0x7fab18bd8650>,\n",
       " <Element 'field' at 0x7fab18bd86b0>]"
      ]
     },
     "execution_count": 21,
     "metadata": {},
     "output_type": "execute_result"
    }
   ],
   "source": [
    "root[0][:3]"
   ]
  },
  {
   "cell_type": "code",
   "execution_count": 33,
   "metadata": {},
   "outputs": [
    {
     "data": {
      "text/plain": [
       "[('url', 'http://news.livedoor.com/article/detail/4597641/'),\n",
       " ('cat', 'sports-watch'),\n",
       " ('date', '2010-02-10T01:50:00Z'),\n",
       " ('title', '【Sports Watch】秋山成勲、メールで吉田に対戦迫った!?'),\n",
       " ('body', '今月8日、都内ホテルでは、総合格闘家・吉田秀彦の引退試合興行「ASTRA」の開催が発表された。'),\n",
       " ('body', None),\n",
       " ('body',\n",
       "  'バルセロナ五輪柔道金メダリストとしての実績を引っさげ、2002年にプロ総合格闘家に転向。以後、数々の死闘を繰り広げてきた吉田。昨年大晦日のDynamite!!では、石井慧との金メダリスト対決を制し、4月に迎える引退試合の相手には、桜庭和志やまさかの朝青龍といった報道が駆け巡る中、“反骨の柔道王”秋山成勲が吉田にメールで対戦を迫っていたというのだ。'),\n",
       " ('body', None),\n",
       " ('body',\n",
       "  '会見翌日の9日に更新された秋山成勲オフィシャルブログでは、「吉田秀彦対秋山成勲」と題し、「常に憧れ目標にしてきた吉田先輩が引退。正直寂しい気持ちはありますが、ほんまにお疲れ様でした！引退試合はもちろん自分とやるでしょ！？」とストレートに書き綴りながらも、「さっき吉田先輩にメールで自分とやるでしょ？的なメールを打って、軽く流されましたが」と、実際に吉田へ対戦を打診をしていたことを明かした。')]"
      ]
     },
     "execution_count": 33,
     "metadata": {},
     "output_type": "execute_result"
    }
   ],
   "source": [
    "[(f.get('name'), f.text) for f in root[0][:9]]"
   ]
  },
  {
   "cell_type": "code",
   "execution_count": 46,
   "metadata": {},
   "outputs": [
    {
     "data": {
      "text/plain": [
       "{'url': 'http://news.livedoor.com/article/detail/4597641/',\n",
       " 'cat': 'sports-watch',\n",
       " 'date': '2010-02-10T01:50:00Z',\n",
       " 'title': '【Sports Watch】秋山成勲、メールで吉田に対戦迫った!?',\n",
       " 'body': '今月8日、都内ホテルでは、総合格闘家・吉田秀彦の引退試合興行「ASTRA」の開催が発表された。\\n\\nバルセロナ五輪柔道金メダリストとしての実績を引っさげ、2002年にプロ総合格闘家に転向。以後、数々の死闘を繰り広げてきた吉田。昨年大晦日のDynamite!!では、石井慧との金メダリスト対決を制し、4月に迎える引退試合の相手には、桜庭和志やまさかの朝青龍といった報道が駆け巡る中、“反骨の柔道王”秋山成勲が吉田にメールで対戦を迫っていたというのだ。\\n\\n会見翌日の9日に更新された秋山成勲オフィシャルブログでは、「吉田秀彦対秋山成勲」と題し、「常に憧れ目標にしてきた吉田先輩が引退。正直寂しい気持ちはありますが、ほんまにお疲れ様でした！引退試合はもちろん自分とやるでしょ！？」とストレートに書き綴りながらも、「さっき吉田先輩にメールで自分とやるでしょ？的なメールを打って、軽く流されましたが」と、実際に吉田へ対戦を打診をしていたことを明かした。\\n\\nもちろん、階級が違う上、秋山は米UFCを主戦場にしている現状、対戦することはまずない。それでも、我が道を行き、空気を一切読まない秋山だけに、案外本気に考えていた可能性もなきにしもあらず——。そんなブログの最後には、「ほんまに柔道から格闘技の道を作って頂いたパイオニアだと自分は思い尊敬してます！引退試合頑張ってください！」と吉田にエールを送る秋山であった。'}"
      ]
     },
     "execution_count": 46,
     "metadata": {},
     "output_type": "execute_result"
    }
   ],
   "source": [
    "def to_json_doc(xml_doc):\n",
    "    json_map = defaultdict(list)\n",
    "    \n",
    "    for field in xml_doc:\n",
    "        text = field.text if field.text else ''\n",
    "        json_map[field.get('name')].append(text)\n",
    "        \n",
    "        \n",
    "    return {k: '\\n'.join(v) for k,v in json_map.items()}\n",
    "        \n",
    "    \n",
    "to_json_map(root[0])"
   ]
  },
  {
   "cell_type": "markdown",
   "metadata": {},
   "source": [
    "# Transform the data"
   ]
  },
  {
   "cell_type": "code",
   "execution_count": 56,
   "metadata": {},
   "outputs": [
    {
     "data": {
      "text/plain": [
       "['./peachy.json',\n",
       " './smax.json',\n",
       " './kaden-channel.json',\n",
       " './it-life-hack.json',\n",
       " './dokujo-tsushin.json',\n",
       " './sports-watch.json',\n",
       " './movie-enter.json',\n",
       " './livedoor-homme.json',\n",
       " './topic-news.json']"
      ]
     },
     "execution_count": 56,
     "metadata": {},
     "output_type": "execute_result"
    }
   ],
   "source": [
    "for xml_file in glob.glob('livedoor-news-data/*'):\n",
    "    \n",
    "    xml_root = ET.parse(xml_file).getroot()\n",
    "    json_docs = [to_json_doc(doc) for doc in xml_root]\n",
    "    \n",
    "    json_file = xml_file.replace('livedoor-news-data/', '').replace('.xml', '.json')\n",
    "    with open(json_file, 'w') as f:\n",
    "        json.dump(json_docs, f)\n",
    "    \n",
    "glob.glob('./*.json')"
   ]
  },
  {
   "cell_type": "code",
   "execution_count": 59,
   "metadata": {},
   "outputs": [
    {
     "data": {
      "text/plain": [
       "[{'url': 'http://news.livedoor.com/article/detail/5903225/',\n",
       "  'cat': 'topic-news',\n",
       "  'date': '2011-10-02T01:00:00Z',\n",
       "  'title': '悪評が次から次へと溢れ出る川越シェフ',\n",
       "  'body': '最近、TVでも人気者の川越シェフ。代官山のおしゃれなイタリアンレストランのオーナーシェフでありながら、タレントとも軽妙なトークを交わすマルチな才能で、TV業界でもその地位を不動のものとしつつある。また、その甘いマスクに魅せられた、「川越女子」なる固定ファンまで存在するという。\\n\\nしかし、ここにきて川越シェフの悪評がどんどん噴出しているようだ。最近では、ミニストップの川越シェフプロデュースクリスマスケーキが、1万円という超高額で売り出されることが話題となった。\\n\\n【関連記事】\\nミニストップの川越シェフプロデュースクリスマスケーキがバカ高いと話題に\\nhttp://news.livedoor.com/topics/detail/5899457/\\n\\n普通のケーキなら、原価は200円程度。川越シェフプロデュースだけに、多少豪華に作ってあるかもしれないが、それでも「ぼったくり」というネット上の反応が多かった。また、それ以上に、「有名になった途端、ここぞとばかりに金儲けしている」という声も散見された。\\n\\nまた、普段のマスコミ対応の悪さもかなりのものだ。数年前までは、川越シェフなどほとんど誰も知らないような状態だったが、有名となった今は手の平を返すように、週刊誌の記者なを見下すような態度が見られるようになったという。\\n\\nマスコミのおかげで有名になっておきながら、恩知らずとはこのことだろう。\\n\\n【関連記事】\\nシェフのタレント化はもうたくさん!?\\u3000マスコミが嫌うタレントシェフ\\nhttp://news.livedoor.com/topics/detail/5801160/\\n\\nしかし、単なるシェフ風情が調子に乗ってしまうのも無理はない。何せ、「株式会社TATSUYA KAWAGOE」の年商は約9,000万円、さらにTVへの出演料も高額に上る。\\n\\nまた、6月にTV番組で「バツ2」の独身であることを告白している。あの甘いマスクに有名人とくれば、モテないはずはない。つまり、カネもオンナも“やりたい放題”なのだろう。\\n\\n【関連記事】\\n離婚告白川越達也シェフ\\u3000週1ネイルサロン、収録時は口紅も\\nhttp://news.livedoor.com/topics/detail/5655259/\\n\\n川越シェフの15才年下美人秘書「シェフとデキてる」説を否定\\nhttp://news.livedoor.com/topics/detail/5865240/\\n\\nその天狗っぷりが盛んに報道されるようになった最近では、収録現場で、「はよやれや！」とブチギレすることもあるようで、現場で働くスタッフからの評判もかなり悪いのではないだろうか？\\n\\n【関連記事】\\n川越シェフが我慢の限界でブチギレ「はよやれや！ あとでこいよ……」\\nhttp://news.livedoor.com/topics/detail/5558182/\\n\\n肝心の料理の腕に関しては、「デパ地下の惣菜レベル」という意見もある。それを聞くと、TVでの上から目線の評論にも、疑問符が付いてしまう。いずれ化けの皮が剥がれても、もう十分儲けているので、本人としては「どうでもいい」のかもしれないが……。\\n\\n【関連記事】\\n大人気イケメンシェフ\\u3000川越達也氏のカネと評判\\nhttp://news.livedoor.com/topics/detail/5858898/\\n\\nそもそも、川越シェフに褒められた程度で“買い”に走ってしまう視聴者のレベルも問題である。こういった、メディアの戦略に面白いように引っかかる頭の残念な人には、かける言葉もないが、せいぜい日本の景気を良くするためにパーっとお金を使っていただきたいものだ。\\n\\n【関連記事】\\n川越達也プロデュース商品が出まくりな件について / 川越ドッグフードも存在\\nhttp://news.livedoor.com/topics/detail/5828874/\\n\\n川越達也が好きすぎて毎日川越達也監修商品を食べている『川越女子』！ 川越達也メニューが出続けないと死ぬ\\nhttp://news.livedoor.com/topics/detail/5759728/\\n\\n川越シェフのキムチに川越達也のドヤ顔が無くなり川越女子ブチギレ！「私を殺す気ですか」\\nhttp://news.livedoor.com/topics/detail/5801859/\\n\\nやっぱり気になる！！川越達也シェフ\\nhttp://news.livedoor.com/topics/detail/5571502/'},\n",
       " {'url': 'http://news.livedoor.com/article/detail/5903373/',\n",
       "  'cat': 'topic-news',\n",
       "  'date': '2011-10-01T01:00:00Z',\n",
       "  'title': '写真が流出し“堕ちていった”アイドルたち',\n",
       "  'body': 'アイドルが男性と一緒に写ったプリクラやニャンニャン写真を流出させ、スキャンダルに発展するというケースがにわかに増えてきているが、アイドルの交際が表沙汰になるのは今も昔もご法度だ。\\n\\nそもそも、女性アイドルのファンになる男性は、現実の女性に相手にされないことが多い。そのためアイドルを、自分の“想像上の恋人”に見立て、思いを投影するのだが、その思いが強すぎることがままあり、アイドルが処女であるかどうかには異常なまでのこだわりを見せる。\\n\\nその手のアイドルファンは、プリクラなどを流出させ、恋人の存在が発覚すると、途端にそのアイドルへの興味を失ってしまうため、芸能事務所はプリクラやニャンニャン写真流出には神経を尖らせる。\\n\\nその典型例が男性との過去のツーショットプリクラが流出し、年内謹慎となったNMB48 2期生・島田玲奈だ。たかがプリクラ流出で、年内謹慎とは処分が重過ぎる気もするが、事務所がそれほどまでに神経を尖らせているということなのだろう。\\n\\nさらにその翌日には、原因が明らかになっていないものの、吉田朱里と松田栞の2人も無期限の謹慎となり、NMB48は2日間で3人の謹慎者を出すという前代未聞の事態となった。\\n\\n【関連記事】\\nＮＭＢショック…また２人謹慎\\nhttp://news.livedoor.com/topics/detail/5838894/\\n\\nAKB、NMBに謹慎者続出でSKEファンがホッとする\\nhttp://news.livedoor.com/topics/detail/5858187/\\n\\n写真流出でファンが離れたといえば、平野綾を忘れてはならない。\\n\\nいかにも悪そうな、アイドルファンとは対極にあるようなルックスの男性と裸で抱き合い、恍惚の表情を浮かべる平野綾の写真が流出し、ネット上では一時、騒然となったのは記憶に新しい。\\n\\n平野綾の場合は、もともと声優ということもあり、ファン層が普通のアイドルよりもオタク寄りであったため、ニャンニャン写真の流出で受けたショックは、より大きかったようだ。\\n\\n【関連記事】\\nあの『ニャンニャン画像』流出は移籍の布石!? 平野綾 事務所解雇\\nhttp://news.livedoor.com/topics/detail/5783332/\\n\\nとはいえ、アイドル側だけを責めるのは酷である。アイドルになるほどの美少女に彼氏がいないのも逆におかしな話。冷静に考えると、男性とのプリクラが流出した程度で騒ぐオタク層の方が明らかに異常だ。\\n\\nしかし、アイドルのために、大量のグッズ購入をするなど、大金を貢ぐのはオタク層しかいない。そのためオタク層の意見を無視したら、芸能界での成功の可能性はぐっと低くなるといわざるを得ないのだ。\\n\\n【関連記事】\\nＡＫＢが統一ルール“過去の男友達”線引き…３グループ幹部会合へ\\nhttp://news.livedoor.com/topics/detail/5844998/\\n\\nAKB48研究生・石黒貴己、プリクラ流出で脱退\\nhttp://news.livedoor.com/topics/detail/4843192/\\n\\n「AKB48」研究生・西川七海、プリクラ流出で解雇\\nhttp://news.livedoor.com/topics/detail/4268380/\\n\\nAKB48前田敦子に喫煙疑惑が浮上!?\\u3000アイドル喫煙史\\nhttp://news.livedoor.com/topics/detail/5125822/\\n\\nオタク層は購買力があるので手っ取り早く成功するにはいいかもしれないが、現実世界での地位は低い。ファンがオタクばかりの芸能人は、ある一定レベル以上の成功を収めると、逆に「オタクのアイドル」というレッテルを貼られ、「ファンがオタクばかり」であることがむしろマイナスになる。\\n\\n平野綾も、ネット上の発言などから、自分のファンがオタクばかりであることにコンプレックスを持っていた様子が窺え、「オタクを切るために自らニャンニャン写真を流出させた」という陰謀論まで出る始末だ。\\n\\nどんなに売れていようが、「ファンがオタクばかりの芸能人は一流ではない」という意識が平野綾本人にあったのかもしれない。\\n\\n【関連記事】\\n「昨年にはスタッフに土下座までしていた」平野綾\\u3000事務所解雇騒動の裏側\\nhttp://news.livedoor.com/topics/detail/5780723/\\n\\n平野綾が所属事務所をクビに!?\\u3000錯綜するニャンニャン写真騒動の真相\\nhttp://news.livedoor.com/topics/detail/5778441/'},\n",
       " {'url': 'http://news.livedoor.com/article/detail/5907376/',\n",
       "  'cat': 'topic-news',\n",
       "  'date': '2011-10-03T02:59:00Z',\n",
       "  'title': '紳助とたけしの明暗を分けたものとは',\n",
       "  'body': '今年で20回目を迎えたTBSのオールスター感謝祭に、1回目から総合司会を務めていた島田紳助さんの姿は無かった。\\n\\n司会者不在という異例の事態に、その場にいたタレントの持ち回りで司会が進められる中、思わぬ芸能人の登場に会場が盛り上がる。自身も暴力団との関わりを指摘されていたビートたけしだ。\\n\\nたけしらしいユーモアがあり、かつ無理難題な出題に会場が沸いた。ひな壇の芸能人たちは紳助不在でのびのびとしているようにも見える。\\n\\nオールスター感謝祭20年目の節目、明暗が分かれてしまったこの二人の芸能人は、一体何が違ったのだろうか。\\n\\n紳助さんは、気に入らない後輩への暴力的な態度で知られる。\\n2009年のオールスター感謝祭で、挨拶をしなかった若手芸人を「潰すぞ」と恫喝したこともあった。\\n\\n・「お前ら、潰すぞ！」生放送中に東京03を恫喝した島田紳助\\u3000その後の和解劇真相\\n\\n以前、女性マネージャーへの暴行事件で謹慎となったことがあるだけに、世間の人は「やっぱり」と思ったものだ。\\n\\nただ、世間ではあまり知られていないが、感謝祭の後の打ち上げで東京03とは和解しているので、\\n実態以上に「暴力」のイメージが広まってしまったとも言える。\\n\\n対して、たけしの後輩に対する接し方は、紳助さんとは対照的だ。\\n・【エンタがビタミン♪】『ひな壇芸人』にたけしが警告。「タモリ、紳助を引っ張り降ろせ」とも。\\n\\nたけしは「若手の悪口は絶対に言わない」のだ。なんでも自分が若手時代に、先輩芸人に酷評されたことが原因だそうだが…。\\n\\n紳助さんとたけしは、暴力団に対する対応も異なっている。\\n\\n・どこが違った？たけしと紳助さん…キワどい“マル暴”関係\\n紳助さんは、暴力団幹部のメールのやりとりが発端に暴力団との関係が明るみに出た。\\n\\nたけしは、反対に暴力団との会話を表に出すことで“交際していない”ことを示した、と主張している。\\n\\nたけしは、暴力団をテーマにした映画を作りながら、暴力団への対応には慎重だったのだ。\\n\\n“コワモテの大物芸能人”という一見似たようなポジションの2人だが、明暗が何から何までクッキリ分かれているのが面白い。\\n\\n紳助さんは、このまま逃亡生活のような人生を送るのだろうか。\\n\\nそしてたけしは、暴力団との関係はこれ以上取りざたされず、芸能界に君臨し続けられるのだろうか。'}]"
      ]
     },
     "execution_count": 59,
     "metadata": {},
     "output_type": "execute_result"
    }
   ],
   "source": [
    "with open('topic-news.json') as f:\n",
    "    docs = json.load(f)\n",
    "    \n",
    "docs[:3]"
   ]
  },
  {
   "cell_type": "code",
   "execution_count": null,
   "metadata": {},
   "outputs": [],
   "source": []
  }
 ],
 "metadata": {
  "kernelspec": {
   "display_name": "Python 3",
   "language": "python",
   "name": "python3"
  },
  "language_info": {
   "codemirror_mode": {
    "name": "ipython",
    "version": 3
   },
   "file_extension": ".py",
   "mimetype": "text/x-python",
   "name": "python",
   "nbconvert_exporter": "python",
   "pygments_lexer": "ipython3",
   "version": "3.7.5"
  }
 },
 "nbformat": 4,
 "nbformat_minor": 2
}
